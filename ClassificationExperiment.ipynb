{
 "cells": [
  {
   "cell_type": "code",
   "execution_count": 8,
   "metadata": {
    "scrolled": true
   },
   "outputs": [
    {
     "data": {
      "image/png": "[encoded data removed]",
      "text/plain": [
       "<matplotlib.figure.Figure at 0x10d513588>"
      ]
     },
     "metadata": {},
     "output_type": "display_data"
    }
   ],
   "source": [
    "from sklearn import datasets as ds\n",
    "from sklearn.cross_validation import train_test_split\n",
    "import numpy as np\n",
    "import matplotlib.pyplot as plt\n",
    "import os\n",
    "import matplotlib.pyplot as plt\n",
    "\n",
    "feature_size = 14\n",
    "x, y = ds.load_svmlight_file(\"./data/australian\")\n",
    "train_x, val_x, train_y, val_y = train_test_split(x, y, test_size=0.3)\n",
    "\n",
    "\n",
    "train_x = train_x.toarray().astype(np.float32)\n",
    "temp = np.ones(shape=[len(train_y), 1], dtype=np.float32)\n",
    "train_x = np.concatenate([train_x, temp], axis=1)\n",
    "val_x = val_x.toarray().astype(np.float32)\n",
    "temp = np.ones(shape=[len(val_y), 1], dtype=np.float32)\n",
    "val_x = np.concatenate([val_x, temp], axis=1)\n",
    "train_y = train_y.astype(np.float32).reshape([len(train_y), 1])\n",
    "val_y = val_y.astype(np.float32).reshape([len(val_y), 1])\n",
    "\n",
    "ite = []\n",
    "train_loss_set = []\n",
    "val_loss_set = []\n",
    "\n",
    "w = np.random.rand(feature_size + 1, 1)\n",
    "bias = np.zeros(shape=[feature_size + 1, 1])\n",
    "bias[len(bias)-1][0] = 1.\n",
    "\n",
    "# training\n",
    "iteration = 100\n",
    "lr = 0.1\n",
    "C = 0.1\n",
    "for i in range(0, iteration):\n",
    "    ite.append(i)\n",
    "    pred = np.matmul(train_x, w)\n",
    "    hinge_loss = np.maximum(1 - train_y * pred, 0)\n",
    "    train_loss = np.mean(hinge_loss ** 2) + C * np.sum((w - bias) ** 2)\n",
    "    gradient = -np.matmul(train_x.transpose(), hinge_loss * train_y) / len(train_y)\n",
    "    w -= lr * (gradient + 2 * C * (w - w[len(w) - 1][0] * bias))\n",
    "    train_loss_set.append(train_loss)\n",
    "\n",
    "    val_pred = np.matmul(val_x, w)\n",
    "    val_hinge_loss = np.maximum(1 - val_y * val_pred, 0)\n",
    "    val_loss = np.mean(val_hinge_loss ** 2) + C * np.sum((w - w[len(w) - 1][0] * bias) ** 2)\n",
    "    val_loss_set.append(val_loss)\n",
    "\n",
    "plt.plot(ite, train_loss_set, label='train')\n",
    "plt.plot(ite, val_loss_set, label='validation')\n",
    "plt.xlabel('Iteration')\n",
    "plt.ylabel('Loss')\n",
    "plt.legend()\n",
    "plt.show()"
   ]
  }
 ],
 "metadata": {
  "kernelspec": {
   "display_name": "Python 3",
   "language": "python",
   "name": "python3"
  },
  "language_info": {
   "codemirror_mode": {
    "name": "ipython",
    "version": 3
   },
   "file_extension": ".py",
   "mimetype": "text/x-python",
   "name": "python",
   "nbconvert_exporter": "python",
   "pygments_lexer": "ipython3",
   "version": "3.6.3"
  }
 },
 "nbformat": 4,
 "nbformat_minor": 2
}
